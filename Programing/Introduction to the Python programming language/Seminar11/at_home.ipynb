{
 "cells": [
  {
   "cell_type": "code",
   "execution_count": 49,
   "metadata": {
    "collapsed": true,
    "pycharm": {
     "name": "#%%\n"
    }
   },
   "outputs": [],
   "source": [
    "from sympy import symbols, sin, cos, Symbol, solveset, diff, pprint, S\n",
    "from sympy.plotting import plot"
   ]
  },
  {
   "cell_type": "code",
   "execution_count": 50,
   "outputs": [
    {
     "name": "stdout",
     "output_type": "stream",
     "text": [
      "      1 |      .       .        .       .        .       .      \n",
      "        |               .                       .               \n",
      "        |     .                .         .                .     \n",
      "        |                                                       \n",
      "        |       .     .          .     .          .     .       \n",
      "        |                                                       \n",
      "        |                                                       \n",
      "        |                .    .           .    .                \n",
      "        |    .                                             .    \n",
      "        |                                                       \n",
      "      0 |-------------------------------------------------------\n",
      "        |        .   .            .   .            .   .        \n",
      "        |                                                       \n",
      "        |                                                       \n",
      "        |.                .                   .                .\n",
      "        |   .                .             .                .   \n",
      "        |                                                       \n",
      "        |         .                . .                .         \n",
      "        |           .                               .           \n",
      "        | ..               ..               ..               .. \n",
      "     -1 |_______________________________________________________\n",
      "         -10                        0                          10\n"
     ]
    }
   ],
   "source": [
    "x = Symbol('x')\n",
    "f = sin(x)**2 - cos(x)**2\n",
    "func = plot(f, show=False).show()\n",
    "func"
   ],
   "metadata": {
    "collapsed": false,
    "pycharm": {
     "name": "#%%\n"
    }
   }
  },
  {
   "cell_type": "code",
   "execution_count": 51,
   "outputs": [
    {
     "name": "stdout",
     "output_type": "stream",
     "text": [
      "⎧      π │      ⎫   ⎧      3⋅π │      ⎫\n",
      "⎨n⋅π + ─ │ n ∊ ℤ⎬ ∪ ⎨n⋅π + ─── │ n ∊ ℤ⎬\n",
      "⎩      4 │      ⎭   ⎩       4  │      ⎭\n"
     ]
    }
   ],
   "source": [
    "pprint(solveset(f, x, domain= S.Reals), use_unicode= True)"
   ],
   "metadata": {
    "collapsed": false,
    "pycharm": {
     "name": "#%%\n"
    }
   }
  },
  {
   "cell_type": "markdown",
   "source": [],
   "metadata": {
    "collapsed": false,
    "pycharm": {
     "name": "#%% md\n"
    }
   }
  },
  {
   "cell_type": "code",
   "execution_count": 52,
   "outputs": [
    {
     "name": "stdout",
     "output_type": "stream",
     "text": [
      "⎡   π⎞   ⎛3⋅π   ⎞\n",
      "⎢0, ─⎟ ∪ ⎜───, π⎟\n",
      "⎣   4⎠   ⎝ 4    ⎠\n"
     ]
    }
   ],
   "source": [
    "pprint(solveset(f < 0, x, domain= S.Reals), use_unicode= True)"
   ],
   "metadata": {
    "collapsed": false,
    "pycharm": {
     "name": "#%%\n"
    }
   }
  },
  {
   "cell_type": "code",
   "execution_count": 53,
   "outputs": [
    {
     "name": "stdout",
     "output_type": "stream",
     "text": [
      "⎛π  3⋅π⎞\n",
      "⎜─, ───⎟\n",
      "⎝4   4 ⎠\n"
     ]
    }
   ],
   "source": [
    "pprint(solveset(f > 0, x, domain= S.Reals), use_unicode= True)"
   ],
   "metadata": {
    "collapsed": false,
    "pycharm": {
     "name": "#%%\n"
    }
   }
  },
  {
   "cell_type": "code",
   "execution_count": 54,
   "outputs": [
    {
     "data": {
      "text/plain": "4*sin(x)*cos(x)",
      "text/latex": "$\\displaystyle 4 \\sin{\\left(x \\right)} \\cos{\\left(x \\right)}$"
     },
     "execution_count": 54,
     "metadata": {},
     "output_type": "execute_result"
    }
   ],
   "source": [
    "eq_diff = diff(f, x)\n",
    "eq_diff"
   ],
   "metadata": {
    "collapsed": false,
    "pycharm": {
     "name": "#%%\n"
    }
   }
  },
  {
   "cell_type": "code",
   "execution_count": 55,
   "outputs": [
    {
     "name": "stdout",
     "output_type": "stream",
     "text": [
      "                                        ⎧        π │      ⎫   ⎧        3⋅π │  \n",
      "{2⋅n⋅π │ n ∊ ℤ} ∪ {2⋅n⋅π + π │ n ∊ ℤ} ∪ ⎨2⋅n⋅π + ─ │ n ∊ ℤ⎬ ∪ ⎨2⋅n⋅π + ─── │ n\n",
      "                                        ⎩        2 │      ⎭   ⎩         2  │  \n",
      "\n",
      "    ⎫\n",
      " ∊ ℤ⎬\n",
      "    ⎭\n"
     ]
    }
   ],
   "source": [
    "pprint(solveset(eq_diff, x, domain=S.Reals), use_unicode= True)"
   ],
   "metadata": {
    "collapsed": false,
    "pycharm": {
     "name": "#%%\n"
    }
   }
  },
  {
   "cell_type": "code",
   "execution_count": 56,
   "outputs": [
    {
     "name": "stdout",
     "output_type": "stream",
     "text": [
      "⎛   π⎞\n",
      "⎜0, ─⎟\n",
      "⎝   2⎠\n"
     ]
    }
   ],
   "source": [
    "pprint(solveset(eq_diff > 0, x, domain=S.Reals), use_unicode= True)"
   ],
   "metadata": {
    "collapsed": false,
    "pycharm": {
     "name": "#%%\n"
    }
   }
  },
  {
   "cell_type": "code",
   "execution_count": 57,
   "outputs": [
    {
     "name": "stdout",
     "output_type": "stream",
     "text": [
      "⎛π   ⎞\n",
      "⎜─, π⎟\n",
      "⎝2   ⎠\n"
     ]
    }
   ],
   "source": [
    "pprint(solveset(eq_diff < 0, x, domain=S.Reals), use_unicode= True)"
   ],
   "metadata": {
    "collapsed": false,
    "pycharm": {
     "name": "#%%\n"
    }
   }
  }
 ],
 "metadata": {
  "kernelspec": {
   "display_name": "Python 3",
   "language": "python",
   "name": "python3"
  },
  "language_info": {
   "codemirror_mode": {
    "name": "ipython",
    "version": 2
   },
   "file_extension": ".py",
   "mimetype": "text/x-python",
   "name": "python",
   "nbconvert_exporter": "python",
   "pygments_lexer": "ipython2",
   "version": "2.7.6"
  }
 },
 "nbformat": 4,
 "nbformat_minor": 0
}